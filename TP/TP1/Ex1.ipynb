{
 "cells": [
  {
   "cell_type": "markdown",
   "metadata": {},
   "source": [
    "# Exercice 1: les bases de l'ACP\n",
    "\n",
    "## Question 1: Normalisation des données\n",
    "\n",
    "Écrire une fonction standardize_data(data) qui prend comme paramètres des données dataset les retournes normalisées en utilisant la méthode StandardScalerde Scikit-Learn.\n",
    "\n",
    "La classe Standardscaler part du principe que les données sont normalement distribuées. Elle permet de transformer chaque caractéristique afin qu'elle ait une valeur moyenne de 0 et un écart type de 1"
   ]
  },
  {
   "cell_type": "code",
   "execution_count": 1,
   "metadata": {},
   "outputs": [],
   "source": [
    "import numpy as np\n",
    "import sklearn.preprocessing\n",
    "from sklearn.decomposition import PCA\n",
    "import matplotlib.pyplot as plt\n",
    "from mpl_toolkits.mplot3d import Axes3D\n",
    "import pandas as pd"
   ]
  },
  {
   "cell_type": "code",
   "execution_count": null,
   "metadata": {},
   "outputs": [],
   "source": []
  },
  {
   "cell_type": "markdown",
   "metadata": {},
   "source": [
    "## Question 2: Calcul de la matrice de covariance\n",
    "\n",
    "Écrire une fonction covariance(data)qui calcule et retourne la matrice de covariance dutableau des caractéristiques data"
   ]
  },
  {
   "cell_type": "code",
   "execution_count": null,
   "metadata": {},
   "outputs": [],
   "source": []
  },
  {
   "cell_type": "markdown",
   "metadata": {},
   "source": [
    "## Question 3: Calcul des valeurs propres et vecteurs propres\n",
    "\n",
    "Écrire un script permettant de décomposer la matrice de covariance en valeurs et vecteurs propres"
   ]
  },
  {
   "cell_type": "code",
   "execution_count": null,
   "metadata": {},
   "outputs": [],
   "source": []
  },
  {
   "cell_type": "markdown",
   "metadata": {},
   "source": [
    "## Question 4: compute ACP\n",
    "\n",
    "Écrire une fonction compute_ACP permettant d’appliquer un ACPsur les données en entrée data"
   ]
  },
  {
   "cell_type": "code",
   "execution_count": null,
   "metadata": {},
   "outputs": [],
   "source": []
  },
  {
   "cell_type": "markdown",
   "metadata": {},
   "source": [
    "## Question 5: Variance expliquee\n",
    "\n",
    "Écrire un script permettant de calculer le pourcentage de variance expliquée pour chaque composante principale"
   ]
  },
  {
   "cell_type": "code",
   "execution_count": null,
   "metadata": {},
   "outputs": [],
   "source": []
  },
  {
   "cell_type": "markdown",
   "metadata": {},
   "source": [
    "## Question 6: Projection des données\n",
    "\n",
    "Dans un programme principalcompute_ACP(data):\n",
    "\n",
    "1. Générez un ensemble de 500 vecteurs dans l’espace 3D, suivant une loi normale (de moyenne nulle et de variance unitaire), ensuite visualisez les points générés (utiliser np.random.randn(500,3)).\n",
    "\n",
    "2. Appellerla fonction compute_ACP et l’appliquer aux données générées"
   ]
  },
  {
   "cell_type": "code",
   "execution_count": null,
   "metadata": {},
   "outputs": [],
   "source": []
  }
 ],
 "metadata": {
  "kernelspec": {
   "display_name": "Python 3",
   "language": "python",
   "name": "python3"
  },
  "language_info": {
   "codemirror_mode": {
    "name": "ipython",
    "version": 3
   },
   "file_extension": ".py",
   "mimetype": "text/x-python",
   "name": "python",
   "nbconvert_exporter": "python",
   "pygments_lexer": "ipython3",
   "version": "3.11.9"
  }
 },
 "nbformat": 4,
 "nbformat_minor": 2
}
