{
 "cells": [
  {
   "cell_type": "markdown",
   "metadata": {},
   "source": [
    "# Exercice 1: les bases de l'ACP\n",
    "\n",
    "## Question 1: Normalisation des données\n",
    "\n",
    "Écrire une fonction standardize_data(data) qui prend comme paramètres des données dataset les retournes normalisées en utilisant la méthode StandardScalerde Scikit-Learn.\n",
    "\n",
    "La classe Standardscaler part du principe que les données sont normalement distribuées. Elle permet de transformer chaque caractéristique afin qu'elle ait une valeur moyenne de 0 et un écart type de 1"
   ]
  },
  {
   "cell_type": "code",
   "execution_count": null,
   "metadata": {},
   "outputs": [],
   "source": [
    "import numpy as np\n",
    "import sklearn.preprocessing\n",
    "from sklearn.decomposition import PCA\n",
    "import matplotlib.pyplot as plt\n",
    "from mpl_toolkits.mplot3d import Axes3D\n",
    "import pandas as pd"
   ]
  },
  {
   "cell_type": "code",
   "execution_count": null,
   "metadata": {},
   "outputs": [],
   "source": [
    "def standardize_data(data: np.ndarray) -> np.ndarray:\n",
    "    \"\"\"\n",
    "    Standardizes the input data using the StandardScaler from sklearn.preprocessing.\n",
    "\n",
    "    Parameters:\n",
    "        data (np.ndarray): The input data to be standardized.\n",
    "\n",
    "    Returns:\n",
    "        np.ndarray: The standardized data.\n",
    "\n",
    "    \"\"\"\n",
    "    data = sklearn.preprocessing.StandardScaler().fit_transform(data)\n",
    "    return data"
   ]
  },
  {
   "cell_type": "markdown",
   "metadata": {},
   "source": [
    "## Question 2: Calcul de la matrice de covariance\n",
    "\n",
    "Écrire une fonction covariance(data)qui calcule et retourne la matrice de covariance dutableau des caractéristiques data"
   ]
  },
  {
   "cell_type": "code",
   "execution_count": null,
   "metadata": {},
   "outputs": [],
   "source": [
    "def cov_matrix(data: np.ndarray) -> np.ndarray:\n",
    "    \"\"\"\n",
    "    Calculates the covariance matrix of the input data.\n",
    "\n",
    "    Parameters:\n",
    "        data (np.ndarray): The input data.\n",
    "\n",
    "    Returns:\n",
    "        np.ndarray: The covariance matrix of the input data.\n",
    "\n",
    "    \"\"\"\n",
    "    return np.cov(data, rowvar=False)"
   ]
  },
  {
   "cell_type": "markdown",
   "metadata": {},
   "source": [
    "## Question 3: Calcul des valeurs propres et vecteurs propres\n",
    "\n",
    "Écrire un script permettant de décomposer la matrice de covariance en valeurs et vecteurs propres"
   ]
  },
  {
   "cell_type": "code",
   "execution_count": null,
   "metadata": {},
   "outputs": [],
   "source": [
    "def decompose_cov_matrix(data: np.ndarray) -> tuple:\n",
    "    \"\"\"\n",
    "    Decomposes the covariance matrix of the given data.\n",
    "\n",
    "    Parameters:\n",
    "        data (np.ndarray): The input data array.\n",
    "\n",
    "    Returns:\n",
    "        tuple: A tuple containing the eigenvalues and eigenvectors of the covariance matrix.\n",
    "    \"\"\"\n",
    "    cov_mat = cov_matrix(data)\n",
    "    eigenvalues, eigenvectors = np.linalg.eig(cov_mat)\n",
    "    return eigenvalues, eigenvectors"
   ]
  },
  {
   "cell_type": "markdown",
   "metadata": {},
   "source": [
    "## Question 4: compute ACP\n",
    "\n",
    "Écrire une fonction compute_ACP permettant d’appliquer un ACPsur les données en entrée data"
   ]
  },
  {
   "cell_type": "code",
   "execution_count": null,
   "metadata": {},
   "outputs": [],
   "source": [
    "def compute_ACP(data : np.ndarray, n_components=None):\n",
    "    \"\"\"\n",
    "    Computes the Principal Component Analysis (PCA) on the given data.\n",
    "\n",
    "    Parameters:\n",
    "    - data: numpy.ndarray\n",
    "        The input data for PCA.\n",
    "    - n_components: int or None, optional (default=None)\n",
    "        The number of components to keep. If None, all components are kept.\n",
    "\n",
    "    Returns:\n",
    "    - transformed_data: numpy.ndarray\n",
    "        The transformed data after applying PCA.\n",
    "    - explained_variance_ratio: numpy.ndarray\n",
    "        The ratio of explained variance for each principal component.\n",
    "    - pca: sklearn.decomposition.PCA\n",
    "        The PCA object used for the transformation.\n",
    "\n",
    "    \"\"\"\n",
    "    pca = PCA(n_components=n_components)\n",
    "    transformed_data = pca.fit_transform(data)\n",
    "    explained_variance_ratio = pca.explained_variance_ratio_\n",
    "    return transformed_data, explained_variance_ratio, pca"
   ]
  },
  {
   "cell_type": "markdown",
   "metadata": {},
   "source": [
    "## Question 5: Variance expliquee\n",
    "\n",
    "Écrire un script permettant de calculer le pourcentage de variance expliquée pour chaque composante principale"
   ]
  },
  {
   "cell_type": "code",
   "execution_count": null,
   "metadata": {},
   "outputs": [],
   "source": [
    "def compute_ACP(data : np.ndarray, n_components=None):\n",
    "    \"\"\"\n",
    "    Computes the Principal Component Analysis (PCA) on the given data.\n",
    "\n",
    "    Parameters:\n",
    "    - data: numpy.ndarray\n",
    "        The input data for PCA.\n",
    "    - n_components: int or None, optional (default=None)\n",
    "        The number of components to keep. If None, all components are kept.\n",
    "\n",
    "    Returns:\n",
    "    - transformed_data: numpy.ndarray\n",
    "        The transformed data after applying PCA.\n",
    "    - explained_variance_ratio: numpy.ndarray\n",
    "        The ratio of explained variance for each principal component.\n",
    "    - pca: sklearn.decomposition.PCA\n",
    "        The PCA object used for the transformation.\n",
    "\n",
    "    \"\"\"\n",
    "    pca = PCA(n_components=n_components)\n",
    "    transformed_data = pca.fit_transform(data)\n",
    "    explained_variance_ratio = pca.explained_variance_ratio_\n",
    "    return transformed_data, explained_variance_ratio, pca"
   ]
  },
  {
   "cell_type": "markdown",
   "metadata": {},
   "source": [
    "## Question 6: Projection des données\n",
    "\n",
    "Dans un programme principalcompute_ACP(data):\n",
    "\n",
    "1. Générez un ensemble de 500 vecteurs dans l’espace 3D, suivant une loi normale (de moyenne nulle et de variance unitaire), ensuite visualisez les points générés (utiliser np.random.randn(500,3)).\n",
    "\n",
    "2. Appellerla fonction compute_ACP et l’appliquer aux données générées"
   ]
  },
  {
   "cell_type": "code",
   "execution_count": null,
   "metadata": {},
   "outputs": [],
   "source": [
    "if __name__ == \"__main__\":\n",
    "    # Générer 500 vecteurs dans l'espace 3D\n",
    "    data = np.random.randn(500,3)\n",
    "\n",
    "    # Visualiser les points générés\n",
    "    fig = plt.figure()\n",
    "    ax = fig.add_subplot(111, projection='3d')\n",
    "    ax.scatter(data[:,0], data[:,1], data[:,2])\n",
    "    plt.show()\n",
    "\n",
    "    # Appliquer la fonction compute_ACP aux données générées\n",
    "    transformed_data, explained_variance_ratio, pca = compute_ACP(data)\n",
    "    print(\"Transformed Data:\\n\", transformed_data)\n",
    "    print(\"Explained Variance Ratio:\\n\", explained_variance_ratio)"
   ]
  }
 ],
 "metadata": {
  "kernelspec": {
   "display_name": "Python 3",
   "language": "python",
   "name": "python3"
  },
  "language_info": {
   "name": "python",
   "version": "3.11.9"
  }
 },
 "nbformat": 4,
 "nbformat_minor": 2
}
