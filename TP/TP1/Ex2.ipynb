{
 "cells": [
  {
   "cell_type": "markdown",
   "metadata": {},
   "source": [
    "# Exercice 2 –PCA avec Scikit-Learn sur le jeu de données «iris »\n",
    "\n",
    "## Question 1 : Charger le jeu de données «iris»\n",
    "\n",
    "Lire  le  dataset  iris  en  utilisant  la  méthode  datasets.load_iris()  de  sklearn.datasets. Explorer ce datase"
   ]
  },
  {
   "cell_type": "code",
   "execution_count": 1,
   "metadata": {},
   "outputs": [],
   "source": [
    "from Ex1 import *\n",
    "from sklearn.datasets import load_iris\n",
    "import pandas as pd\n",
    "from sklearn.decomposition import PCA\n",
    "import matplotlib.pyplot as plt"
   ]
  },
  {
   "cell_type": "code",
   "execution_count": null,
   "metadata": {},
   "outputs": [],
   "source": []
  },
  {
   "cell_type": "markdown",
   "metadata": {},
   "source": [
    "## Question 2 : Réaliser une ACP sur le jeu de données «iris»\n",
    "\n",
    "Appliquer  l’ACP  à  ce  dataset  en  utilisant  2  composantes  principales.  Vérifier  la dimension des données après application de l’ACP"
   ]
  },
  {
   "cell_type": "code",
   "execution_count": null,
   "metadata": {},
   "outputs": [],
   "source": []
  },
  {
   "cell_type": "markdown",
   "metadata": {},
   "source": [
    "## Question 3 : les composantes principales\n",
    "\n",
    "Afficher les composantes principales en utilisant principal.components"
   ]
  },
  {
   "cell_type": "code",
   "execution_count": null,
   "metadata": {},
   "outputs": [],
   "source": []
  },
  {
   "cell_type": "markdown",
   "metadata": {},
   "source": [
    "## Question 4 : Affichage des données\n",
    "\n",
    "Afficher les données dans le nouveau repère des composantes principalesen utilisant2 composantes. Afficher chaque classe avec une couleur différente"
   ]
  },
  {
   "cell_type": "code",
   "execution_count": null,
   "metadata": {},
   "outputs": [],
   "source": []
  },
  {
   "cell_type": "markdown",
   "metadata": {},
   "source": [
    "## Question 5 : proportion de variance expliquée\n",
    "\n",
    "Calculer et afficher la proportion de variance expliquée (explained_variance_ratio_) pour chaque composante principale"
   ]
  },
  {
   "cell_type": "code",
   "execution_count": null,
   "metadata": {},
   "outputs": [],
   "source": []
  },
  {
   "cell_type": "markdown",
   "metadata": {},
   "source": [
    "## Question 6 : Dimension minimales requises\n",
    "\n",
    "Écrire un code Python permettant de calculer le nombre de dimensions requises pour préserver 95% de la variance du jeu de données:\n",
    "1. Utiliser la méthode cumsum() de numpy\n",
    "2. Proposer une autre méthode en jouant sur la valeur du paramètre n_components de la classe PCA de Scikit-learn."
   ]
  },
  {
   "cell_type": "code",
   "execution_count": null,
   "metadata": {},
   "outputs": [],
   "source": []
  },
  {
   "cell_type": "markdown",
   "metadata": {},
   "source": [
    "## Question 7 : Visualisation de la variance expliquée\n",
    "\n",
    "Représenter  la  contribution  de  la  variance  en  fonction  du  nombre  de  dimensions (représenter graphiquement cumsum). Interpréter"
   ]
  },
  {
   "cell_type": "code",
   "execution_count": null,
   "metadata": {},
   "outputs": [],
   "source": []
  },
  {
   "cell_type": "markdown",
   "metadata": {},
   "source": [
    "On remarque que les deux premières composantes principales expliquent plus de 95% de la variance.\n",
    "Par ailleurs, avec 4 composantes ont arrives à 100% de la variance expliquée."
   ]
  }
 ],
 "metadata": {
  "kernelspec": {
   "display_name": "Python 3",
   "language": "python",
   "name": "python3"
  },
  "language_info": {
   "codemirror_mode": {
    "name": "ipython",
    "version": 3
   },
   "file_extension": ".py",
   "mimetype": "text/x-python",
   "name": "python",
   "nbconvert_exporter": "python",
   "pygments_lexer": "ipython3",
   "version": "3.11.9"
  }
 },
 "nbformat": 4,
 "nbformat_minor": 2
}
