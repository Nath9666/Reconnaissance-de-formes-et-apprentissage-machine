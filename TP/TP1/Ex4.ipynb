{
 "cells": [
  {
   "cell_type": "markdown",
   "metadata": {},
   "source": [
    "# Exercice 4.\n",
    "\n",
    "Dans cet exercice nous allons utiliser le jeu de données MINSTqui est composé de petites images de chiffres écrits à la main. L’étiquette associée à chaque image est le chiffre représenté. Nous allons utiliser l'ensemble de chiffres prétraité et intégré dans datasets de la bibliothèque Scikit-Learn (load_digits)\n",
    "\n",
    "# Question 1\n",
    "Lire et visualiser les données chiffres (digits) du dataset"
   ]
  },
  {
   "cell_type": "code",
   "execution_count": 1,
   "metadata": {},
   "outputs": [],
   "source": [
    "from sklearn.datasets import load_digits\n",
    "import matplotlib.pyplot as plt\n",
    "from sklearn.decomposition import PCA"
   ]
  },
  {
   "cell_type": "code",
   "execution_count": null,
   "metadata": {},
   "outputs": [],
   "source": []
  },
  {
   "cell_type": "markdown",
   "metadata": {},
   "source": [
    "## Question 2\n",
    "\n",
    "Les  données  obtenues  correspondent  à  des  images  8x8.  Donner  la  dimension  des données?  Utiliser  PCA  pour  visualizer  ces  données. Tracer  les  deux  composantes principales"
   ]
  },
  {
   "cell_type": "code",
   "execution_count": null,
   "metadata": {},
   "outputs": [],
   "source": []
  },
  {
   "cell_type": "markdown",
   "metadata": {},
   "source": [
    "## Question 3\n",
    "\n",
    "Visualiser la reconstruction d’un chiffre en utilisant successivement: 1, 2, 3, 10, 20, 30, 50, 64 composantes principales. Interpréter."
   ]
  },
  {
   "cell_type": "code",
   "execution_count": null,
   "metadata": {},
   "outputs": [],
   "source": []
  },
  {
   "cell_type": "markdown",
   "metadata": {},
   "source": [
    "Plus le nombre de composantes principales utilisées pour la reconstruction est élevé, plus l'image reconstruite ressemble à l'image originale. Cela est dû au fait que plus de composantes principales capturent plus d'information sur les données. Cependant, l'utilisation d'un grand nombre de composantes principales peut entraîner un surajustement."
   ]
  }
 ],
 "metadata": {
  "kernelspec": {
   "display_name": "Python 3",
   "language": "python",
   "name": "python3"
  },
  "language_info": {
   "codemirror_mode": {
    "name": "ipython",
    "version": 3
   },
   "file_extension": ".py",
   "mimetype": "text/x-python",
   "name": "python",
   "nbconvert_exporter": "python",
   "pygments_lexer": "ipython3",
   "version": "3.11.9"
  }
 },
 "nbformat": 4,
 "nbformat_minor": 2
}
