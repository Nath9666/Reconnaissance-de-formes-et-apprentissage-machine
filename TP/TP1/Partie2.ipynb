{
 "cells": [
  {
   "cell_type": "markdown",
   "metadata": {},
   "source": [
    "# Partie 2 du Tp1\n",
    "\n",
    "On considère la base de formes MPEG-7 qui comprend 70 types d'objets ayant chacun 20 formes  différentes(1400  formes).Chaque  forme  contour  a  été  reparamétré  par  l’abscisse curviligne. Lefichier «MPEG-7_arc_length parametrization.csv» comprend la liste des 1400 formes contours reparamétrés. \n",
    "\n",
    "## Question 1\n",
    "Implémenter les descripteurs de Fourier vus en cours(penser à utiliser la fonction Discrete Fourier Transform (numpy.fft)de numpy)"
   ]
  },
  {
   "cell_type": "code",
   "execution_count": 1,
   "metadata": {},
   "outputs": [],
   "source": [
    "import numpy as np\n",
    "import pandas as pd\n",
    "from sklearn.metrics import precision_recall_curve\n",
    "import matplotlib.pyplot as plt"
   ]
  },
  {
   "cell_type": "code",
   "execution_count": null,
   "metadata": {},
   "outputs": [],
   "source": []
  },
  {
   "cell_type": "code",
   "execution_count": null,
   "metadata": {},
   "outputs": [],
   "source": []
  },
  {
   "cell_type": "markdown",
   "metadata": {},
   "source": [
    "## Question 2\n",
    "\n",
    "Vérifier les propriétés de ces descripteurs"
   ]
  },
  {
   "cell_type": "code",
   "execution_count": null,
   "metadata": {},
   "outputs": [],
   "source": []
  },
  {
   "cell_type": "markdown",
   "metadata": {},
   "source": [
    "## Question 3\n",
    "\n",
    "Évaluerla performance d’un système de recherche se basant sur ces descripteursen traçantla courbe Précision en fonction du Rappel(vous pouvez utiliser la fonction sklearn: https://scikit-learn.org/stable/modules/generated/sklearn.metrics.precision_recall_curve.html)"
   ]
  },
  {
   "cell_type": "code",
   "execution_count": null,
   "metadata": {},
   "outputs": [],
   "source": []
  }
 ],
 "metadata": {
  "kernelspec": {
   "display_name": "Python 3",
   "language": "python",
   "name": "python3"
  },
  "language_info": {
   "codemirror_mode": {
    "name": "ipython",
    "version": 3
   },
   "file_extension": ".py",
   "mimetype": "text/x-python",
   "name": "python",
   "nbconvert_exporter": "python",
   "pygments_lexer": "ipython3",
   "version": "3.11.9"
  }
 },
 "nbformat": 4,
 "nbformat_minor": 2
}
