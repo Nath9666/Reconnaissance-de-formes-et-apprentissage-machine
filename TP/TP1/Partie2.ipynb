{
 "cells": [
  {
   "cell_type": "markdown",
   "metadata": {},
   "source": [
    "# Partie 2 du Tp1\n",
    "\n",
    "On considère la base de formes MPEG-7 qui comprend 70 types d'objets ayant chacun 20 formes  différentes(1400  formes).Chaque  forme  contour  a  été  reparamétré  par  l’abscisse curviligne. Lefichier «MPEG-7_arc_length parametrization.csv» comprend la liste des 1400 formes contours reparamétrés. \n",
    "\n",
    "## Question 1\n",
    "Implémenter les descripteurs de Fourier vus en cours(penser à utiliser la fonction Discrete Fourier Transform (numpy.fft)de numpy)"
   ]
  },
  {
   "cell_type": "code",
   "execution_count": 23,
   "metadata": {},
   "outputs": [],
   "source": [
    "import numpy as np\n",
    "import pandas as pd\n",
    "from sklearn.metrics import precision_recall_curve\n",
    "import matplotlib.pyplot as plt"
   ]
  },
  {
   "cell_type": "code",
   "execution_count": 24,
   "metadata": {},
   "outputs": [
    {
     "name": "stdout",
     "output_type": "stream",
     "text": [
      "   36.0  0.024741445824742147  0.02528817143247913  0.026839037670761748  \\\n",
      "0  28.0              0.026832             0.029665              0.033134   \n",
      "1  64.0              0.153116             0.149536              0.143248   \n",
      "2  32.0              0.144998             0.142614              0.140184   \n",
      "3  52.0              0.152741             0.151036              0.148942   \n",
      "4  64.0              0.144692             0.143095              0.141414   \n",
      "\n",
      "   0.029287233907614892  0.032293621300270144  0.036538891333856995  \\\n",
      "0              0.036498              0.039899              0.043431   \n",
      "1              0.133658              0.122524              0.112735   \n",
      "2              0.138075              0.136607              0.136053   \n",
      "3              0.146835              0.144867              0.142384   \n",
      "4              0.138378              0.133119              0.127074   \n",
      "\n",
      "   0.04164106022283736  0.047394955001835326  0.053728161683071145  ...  \\\n",
      "0             0.047412              0.051474              0.055847  ...   \n",
      "1             0.104832              0.100911              0.102221  ...   \n",
      "2             0.138465              0.142689              0.140499  ...   \n",
      "3             0.139333              0.136520              0.133782  ...   \n",
      "4             0.120060              0.113659              0.108082  ...   \n",
      "\n",
      "   0.05376417348867019.2  0.05376417348867019.3  0.05376417348867019.4  \\\n",
      "0               0.072895               0.073226               0.073534   \n",
      "1               0.010150               0.005314               0.003774   \n",
      "2               0.083245               0.083339               0.083201   \n",
      "3               0.068050               0.068803               0.068818   \n",
      "4               0.080560               0.079975               0.077729   \n",
      "\n",
      "   0.05376417348867019.5  0.05376417348867019.6  0.05635214387354855  \\\n",
      "0               0.074540               0.075888             0.077587   \n",
      "1               0.004897               0.007771             0.011979   \n",
      "2               0.082359               0.081474             0.079983   \n",
      "3               0.069658               0.071147             0.072499   \n",
      "4               0.074836               0.072931             0.073445   \n",
      "\n",
      "   0.06317746013507634  0.07057079337074998  0.07865060701368007  \\\n",
      "0             0.079252             0.081252             0.083943   \n",
      "1             0.016081             0.021558             0.027761   \n",
      "2             0.078538             0.077041             0.075279   \n",
      "3             0.075936             0.079705             0.083736   \n",
      "4             0.076247             0.082964             0.092925   \n",
      "\n",
      "   0.08596192710335404.1  \n",
      "0               0.086939  \n",
      "1               0.035038  \n",
      "2               0.075009  \n",
      "3               0.088237  \n",
      "4               0.106038  \n",
      "\n",
      "[5 rows x 241 columns]\n"
     ]
    }
   ],
   "source": [
    "# Charger le fichier CSV\n",
    "df = pd.read_csv('C:\\\\Users\\\\Nathan\\\\Documents\\\\Projet\\\\Reconnaissance de formes et apprentissage machine\\\\TP\\\\TP1\\\\MPEG-7_data_arc_length parametrization.csv')\n",
    "\n",
    "# Afficher les premières lignes du DataFrame\n",
    "print(df.head())\n",
    "\n",
    "original_contour = df.iloc[0].values"
   ]
  },
  {
   "cell_type": "code",
   "execution_count": 25,
   "metadata": {},
   "outputs": [],
   "source": [
    "def fourier_descriptors(contour):\n",
    "    # Calculer la transformée de Fourier discrète\n",
    "    fourier_transform = np.fft.fft(contour)\n",
    "\n",
    "    # Ignorer le premier descripteur pour l'invariance à la translation\n",
    "    fourier_transform = fourier_transform[1:]\n",
    "\n",
    "    # Utiliser le module pour l'invariance à la rotation\n",
    "    fourier_transform = np.abs(fourier_transform)\n",
    "\n",
    "    # Normaliser pour l'invariance à l'échelle\n",
    "    fourier_transform = fourier_transform / fourier_transform[0]\n",
    "\n",
    "    # Retourner les descripteurs de Fourier\n",
    "    return fourier_transform"
   ]
  },
  {
   "cell_type": "markdown",
   "metadata": {},
   "source": [
    "## Question 2\n",
    "\n",
    "Vérifier les propriétés de ces descripteurs"
   ]
  },
  {
   "cell_type": "code",
   "execution_count": 26,
   "metadata": {},
   "outputs": [
    {
     "name": "stdout",
     "output_type": "stream",
     "text": [
      "Invariance a la translation :  True\n",
      "Invariance a la rotation :  True\n",
      "Invariance a l'echelle :  True\n"
     ]
    }
   ],
   "source": [
    "# Calculer les descripteurs de Fourier du contour original\n",
    "original_descriptors = fourier_descriptors(original_contour)\n",
    "\n",
    "tolerance = 1e-8  # Définir la tolérance\n",
    "\n",
    "# Déplacer, faire pivoter et redimensionner le contour\n",
    "translated_contour = original_contour + 10\n",
    "rotated_contour = np.roll(original_contour, 1)\n",
    "rescaled_contour = original_contour * 2\n",
    "\n",
    "# Calculer les descripteurs de Fourier des contours modifiés\n",
    "translated_descriptors = fourier_descriptors(translated_contour)\n",
    "rotated_descriptors = fourier_descriptors(rotated_contour)\n",
    "rescaled_descriptors = fourier_descriptors(rescaled_contour)\n",
    "\n",
    "# Vérifier les propriétés d'invariance avec la tolérance\n",
    "print(\"Invariance a la translation : \", np.allclose(original_descriptors[1:], translated_descriptors[1:], atol=tolerance))\n",
    "print(\"Invariance a la rotation : \", np.allclose(np.abs(original_descriptors[1:]), np.abs(rotated_descriptors[1:]), atol=tolerance))\n",
    "print(\"Invariance a l'echelle : \", np.allclose(original_descriptors[1:] / original_descriptors[1], rescaled_descriptors[1:] / rescaled_descriptors[1], atol=tolerance))"
   ]
  },
  {
   "cell_type": "markdown",
   "metadata": {},
   "source": [
    "## Question 3\n",
    "\n",
    "Évaluerla performance d’un système de recherche se basant sur ces descripteursen traçantla courbe Précision en fonction du Rappel(vous pouvez utiliser la fonction sklearn: https://scikit-learn.org/stable/modules/generated/sklearn.metrics.precision_recall_curve.html)"
   ]
  },
  {
   "cell_type": "code",
   "execution_count": 27,
   "metadata": {},
   "outputs": [
    {
     "data": {
      "image/png": "[encoded data removed]",
      "text/plain": [
       "<Figure size 640x480 with 1 Axes>"
      ]
     },
     "metadata": {},
     "output_type": "display_data"
    }
   ],
   "source": [
    "# Définir les étiquettes de classe réelles\n",
    "# Ici, nous supposons que les deux premiers contours appartiennent à la même classe (étiquette 1), et les autres à une autre classe (étiquette 0)\n",
    "y_true = np.array([1, 1] + [0] * (len(df) - 2))\n",
    "\n",
    "# Calculer les scores de prédiction en utilisant une mesure de distance\n",
    "# Ici, nous utilisons la distance euclidienne entre les descripteurs de Fourier du contour original et ceux des autres contours\n",
    "y_scores = np.array([np.linalg.norm(fourier_descriptors(df.iloc[i].values)[1:] - original_descriptors[1:]) for i in range(len(df))])\n",
    "\n",
    "# Calculer la précision et le rappel pour différents seuils\n",
    "precision, recall, _ = precision_recall_curve(y_true, y_scores)\n",
    "\n",
    "# Tracer la courbe Précision-Rappel\n",
    "plt.plot(recall, precision)\n",
    "plt.xlabel('Rappel')\n",
    "plt.ylabel('Précision')\n",
    "plt.title('Courbe Précision-Rappel')\n",
    "plt.show()"
   ]
  }
 ],
 "metadata": {
  "kernelspec": {
   "display_name": "Python 3",
   "language": "python",
   "name": "python3"
  },
  "language_info": {
   "codemirror_mode": {
    "name": "ipython",
    "version": 3
   },
   "file_extension": ".py",
   "mimetype": "text/x-python",
   "name": "python",
   "nbconvert_exporter": "python",
   "pygments_lexer": "ipython3",
   "version": "3.11.9"
  }
 },
 "nbformat": 4,
 "nbformat_minor": 2
}
