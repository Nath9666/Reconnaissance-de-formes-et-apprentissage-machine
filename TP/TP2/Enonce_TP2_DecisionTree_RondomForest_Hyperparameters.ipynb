{
  "cells": [
    {
      "cell_type": "markdown",
      "metadata": {
        "id": "1LF1QfgN5XWr"
      },
      "source": [
        "# TP 2 - Arbres de Décision, Forêt Aléatoire, Cross-validation, Hyperparameter tuning"
      ]
    },
    {
      "cell_type": "markdown",
      "metadata": {
        "id": "NsEdixurFMGs"
      },
      "source": [
        "# **Arbres de décision**"
      ]
    },
    {
      "cell_type": "markdown",
      "metadata": {
        "id": "gLQRjS0FoMDX"
      },
      "source": [
        "**I - Arbres de Classification**\n",
        "\n",
        "---\n",
        "\n",
        "\n"
      ]
    },
    {
      "cell_type": "markdown",
      "metadata": {
        "id": "b6Q6TZUyuYP7"
      },
      "source": [
        "# **Exercice**\n",
        "On considère le dataset iris disponible sous datasets de sklearn. Réaliser la classification à l'aide des arbres de décision."
      ]
    },
    {
      "cell_type": "markdown",
      "metadata": {
        "id": "cprTeOmq6_kT"
      },
      "source": [
        "### A-Chargement des bibilothèques"
      ]
    },
    {
      "cell_type": "code",
      "execution_count": 1,
      "metadata": {
        "id": "Nbt0mfpO2yVo"
      },
      "outputs": [],
      "source": [
        "from sklearn.datasets import load_iris\n",
        "import pandas as pd\n",
        "import numpy as np"
      ]
    },
    {
      "cell_type": "markdown",
      "metadata": {
        "collapsed": true,
        "id": "GJyuIo9K2yVp"
      },
      "source": [
        "### B-Charger le jeu de données\n",
        "Il s'agit du jeu de données Iris de Scikit-Learn prêt à l'emploi [scikit-learn Iris Dataset](https://scikit-learn.org/stable/auto_examples/datasets/plot_iris_dataset.html)."
      ]
    },
    {
      "cell_type": "code",
      "execution_count": null,
      "metadata": {
        "id": "1ge1nRcm2yVp"
      },
      "outputs": [],
      "source": []
    },
    {
      "cell_type": "markdown",
      "metadata": {
        "id": "aRr1G4uL2yVp"
      },
      "source": [
        "### C-Diviser les données en un dataset d'apprentissage et un dataset de test"
      ]
    },
    {
      "cell_type": "markdown",
      "metadata": {
        "id": "SNxxEBzy5rzx"
      },
      "source": [
        "a-Importer la méthode train_test_split"
      ]
    },
    {
      "cell_type": "code",
      "execution_count": null,
      "metadata": {
        "id": "o6VuoRsd8w_n"
      },
      "outputs": [],
      "source": []
    },
    {
      "cell_type": "markdown",
      "metadata": {
        "id": "tK6G4C-y6qgS"
      },
      "source": [
        "b- Diviser le dataset"
      ]
    },
    {
      "cell_type": "code",
      "execution_count": null,
      "metadata": {
        "id": "oP6B5NpN2yVq"
      },
      "outputs": [],
      "source": []
    },
    {
      "cell_type": "markdown",
      "metadata": {
        "id": "6lc-Arnh2yVq"
      },
      "source": [
        "### D-Modèle ML - DecisionTreeClassifier - Implémentation scikit-learn\n",
        "\n",
        "<b>a-</b> Importer le modèle machine Learning souhaité - ici on va importer le modème arbres de décision. Dans scikit-learn, les modèles ML sont implémentés sous forme de classes Python."
      ]
    },
    {
      "cell_type": "code",
      "execution_count": null,
      "metadata": {
        "id": "NPc1vvg59Xab"
      },
      "outputs": [],
      "source": []
    },
    {
      "cell_type": "markdown",
      "metadata": {
        "id": "CNYDP01q2yVr"
      },
      "source": [
        "<b>b-</b> Créer une instance du modèle\n",
        "Préciser les hyperparamètres du modèle. Ici, on pourra préciser la profondeur maximale de l'arbre et choisir une valeur quelconque pour la variable random_state (pour garantir un comportement déterministe durant le training).\n",
        "Pour mieux maitriser les différents hyperparamètres de la classe DecisionTreeClassifier : voir [sklearn-Classe DecisionTtreeClassifier](https://scikit-learn.org/stable/modules/generated/sklearn.tree.DecisionTreeClassifier.html#)"
      ]
    },
    {
      "cell_type": "code",
      "execution_count": null,
      "metadata": {
        "id": "OxaZFdCc2yVr"
      },
      "outputs": [],
      "source": []
    },
    {
      "cell_type": "markdown",
      "metadata": {
        "id": "ZEU76M_9__wk"
      },
      "source": [
        "**Question 1** : Quel est le critère de subdivision utilisé ? Est ce celui de GINI ou l'Entropie?\n",
        "\n",
        "1 : Le critère de subdivision utilisé par défaut par DecisionTreeClassifier dans sklearn est le critère Gini. Cependant, cela peut être modifié en utilisant le paramètre criterion lors de l'instanciation du modèle.\n",
        "\n",
        "**Question 2** : Instancier le modèle avec le critère \"Entropie\".\n",
        "\n",
        "Pour instancier le modèle avec le critère \"Entropie\", vous pouvez utiliser le code suivant :"
      ]
    },
    {
      "cell_type": "code",
      "execution_count": null,
      "metadata": {},
      "outputs": [],
      "source": []
    },
    {
      "cell_type": "markdown",
      "metadata": {
        "id": "8LbFxmFn2yVr"
      },
      "source": [
        "<b>c-</b> Entrainement du modèle : Le modèle va apprendre la relation entre les caractéristiques (largeur et longeuers des sépales et des pétales) et la classe de le l'iris."
      ]
    },
    {
      "cell_type": "code",
      "execution_count": null,
      "metadata": {
        "id": "5YRYOd_Y2yVr"
      },
      "outputs": [],
      "source": []
    },
    {
      "cell_type": "markdown",
      "metadata": {
        "id": "6t278ym92yVs"
      },
      "source": [
        "<b>b-</b> Prédire les classes des nouvelles entrées (test data)"
      ]
    },
    {
      "cell_type": "code",
      "execution_count": null,
      "metadata": {
        "id": "QkSot45F2yVs"
      },
      "outputs": [],
      "source": []
    },
    {
      "cell_type": "markdown",
      "metadata": {
        "id": "v26wyr9F2yVt"
      },
      "source": [
        "### E- Evaluer les performances du modèle"
      ]
    },
    {
      "cell_type": "markdown",
      "metadata": {
        "id": "yfZP6qYJ2yVt"
      },
      "source": [
        "C'est possible d'utiliser les métriques d'évaluation d'un modèle de classification : Rappel/précision, score F1, courbe ROC [ROC Curve](https://towardsdatascience.com/receiver-operating-characteristic-curves-demystified-in-python-bd531a4364d0), etc). On propose d'utiliser l'accuracy = Pourcentage des prédictions correctes (predictions correctes / taille du dataset). cette métrique est implémentée dans la méthode score () de sklearn"
      ]
    },
    {
      "cell_type": "code",
      "execution_count": null,
      "metadata": {
        "id": "WmDZzUXS2yVt"
      },
      "outputs": [],
      "source": []
    },
    {
      "cell_type": "markdown",
      "metadata": {
        "id": "QYoSieaSNRvM"
      },
      "source": [
        "**Question** : Que remarquez vous ?"
      ]
    },
    {
      "cell_type": "markdown",
      "metadata": {},
      "source": [
        "On remarque que les performances du modèle sont très bonnes. En effet, l'accuracy est de 1, ce qui signifie que le modèle a prédit correctement la classe de toutes les instances du dataset de test."
      ]
    },
    {
      "cell_type": "markdown",
      "metadata": {
        "id": "eIA1KQWm2yVt"
      },
      "source": [
        "## F- Visualiser l'arbre de décision - Matplotlib"
      ]
    },
    {
      "cell_type": "code",
      "execution_count": null,
      "metadata": {
        "id": "K9ru4kEf9klT"
      },
      "outputs": [],
      "source": []
    },
    {
      "cell_type": "markdown",
      "metadata": {
        "id": "N64WIZIH2yVu"
      },
      "source": [
        "Les arbres de décision peuvent être affichés avec matplotlib en utilisant `tree.plot_tree`."
      ]
    },
    {
      "cell_type": "code",
      "execution_count": null,
      "metadata": {
        "id": "r2iR-SKrHr1v"
      },
      "outputs": [],
      "source": []
    },
    {
      "cell_type": "code",
      "execution_count": null,
      "metadata": {
        "id": "shcvzF_q2yVu"
      },
      "outputs": [],
      "source": []
    },
    {
      "cell_type": "code",
      "execution_count": null,
      "metadata": {
        "id": "798xPLCj2yVu"
      },
      "outputs": [],
      "source": []
    },
    {
      "cell_type": "code",
      "execution_count": null,
      "metadata": {
        "id": "EXbfeSMB2yVu"
      },
      "outputs": [],
      "source": []
    },
    {
      "cell_type": "markdown",
      "metadata": {
        "id": "QPZfSmD7N2SY"
      },
      "source": [
        "# G-Impact de la profondeur de l'arbre\n",
        "Pour étudier l'impact du chooix de la profondeur de l'arbre, nous allons considérer le dataset breast cancer (à charger à partir de datasets de sklearn).\n",
        "**Question** : On se propose de réaliser la classification en utilisant différentes valeurs de max_depth ( à stocker dans un vecteur numpy max_depths).\n",
        "Exécuter le modèle pour chacune de ces valeurs et sauvegarder à chaque fois les scores de l'entraînement et du test. Utiliser une  boucle for."
      ]
    },
    {
      "cell_type": "code",
      "execution_count": null,
      "metadata": {
        "id": "4mZjvE7ATM7j"
      },
      "outputs": [],
      "source": []
    },
    {
      "cell_type": "code",
      "execution_count": null,
      "metadata": {
        "id": "YlirwWGETaLX"
      },
      "outputs": [],
      "source": []
    },
    {
      "cell_type": "code",
      "execution_count": null,
      "metadata": {
        "id": "wE2yUrj1Ntbp"
      },
      "outputs": [],
      "source": []
    },
    {
      "cell_type": "code",
      "execution_count": null,
      "metadata": {
        "id": "xlpheXvmPxcD"
      },
      "outputs": [],
      "source": []
    },
    {
      "cell_type": "markdown",
      "metadata": {
        "id": "_j7DvvfVQOlD"
      },
      "source": [
        "Afficher les deux courbes de scores en fonction de la valeur de Depth_max"
      ]
    },
    {
      "cell_type": "code",
      "execution_count": null,
      "metadata": {
        "colab": {
          "base_uri": "https://localhost:8080/",
          "height": 569
        },
        "id": "q4H4u5QsQWrS",
        "outputId": "4a244d00-121e-446d-b3b3-69595ee4ec53"
      },
      "outputs": [],
      "source": []
    },
    {
      "cell_type": "markdown",
      "metadata": {
        "id": "rWHLLqfqULs8"
      },
      "source": [
        "# H-Nombre minimum d'échantillons requis pour qu'un nœud devienne un nœud feuille ?\n",
        "On se propose de varier le paramère nombre minimal d'échantillons (l'hyperparamètre min_samples_leaf) pour qu'un noeud devienne feuille"
      ]
    },
    {
      "cell_type": "code",
      "execution_count": null,
      "metadata": {
        "id": "QHFc3EWVUtnr"
      },
      "outputs": [],
      "source": []
    },
    {
      "cell_type": "markdown",
      "metadata": {
        "id": "kePsdJ0BVJf_"
      },
      "source": [
        "Affichage"
      ]
    },
    {
      "cell_type": "code",
      "execution_count": null,
      "metadata": {
        "id": "09e8-HWsVNwY"
      },
      "outputs": [],
      "source": []
    },
    {
      "cell_type": "markdown",
      "metadata": {
        "id": "v4eXRLZ9cVil"
      },
      "source": [
        "# I-Choix des meilleurs Hyperparamètres - GridSearch et cross-validation"
      ]
    },
    {
      "cell_type": "code",
      "execution_count": null,
      "metadata": {
        "id": "x4lxXOsBXtLw"
      },
      "outputs": [],
      "source": []
    },
    {
      "cell_type": "code",
      "execution_count": null,
      "metadata": {
        "id": "vPHTUwFeXuX4"
      },
      "outputs": [],
      "source": []
    },
    {
      "cell_type": "code",
      "execution_count": null,
      "metadata": {
        "id": "1PhQUNONcI2p"
      },
      "outputs": [],
      "source": []
    },
    {
      "cell_type": "markdown",
      "metadata": {
        "id": "BD64U5Dw2yVv"
      },
      "source": [
        "## Forêts Aléatoires\n",
        "L'un des inconvénients des arbres de décision est qu'ils n'ont pas tendance à avoir la meilleure précision prédictive. Cela s'explique en partie par une variance élevée, ce qui signifie que des divisions différentes des données d'apprentissage peuvent donner lieu à des arbres très différents.\n",
        "Nous continuons avec le dataset Breast Cancer"
      ]
    },
    {
      "cell_type": "markdown",
      "metadata": {
        "id": "uXCLtOMB2yVw"
      },
      "source": [
        "### Charger les données et diviser les en training et test datasets."
      ]
    },
    {
      "cell_type": "markdown",
      "metadata": {
        "id": "gLG6nyyt2yVw"
      },
      "source": [
        "### Random Forest - Implémentation `scikit-learn`"
      ]
    },
    {
      "cell_type": "markdown",
      "metadata": {
        "id": "mPudWSaL2yVw"
      },
      "source": [
        "<b>1:</b> Importer le model"
      ]
    },
    {
      "cell_type": "code",
      "execution_count": null,
      "metadata": {
        "id": "HDzf4czm2yVw"
      },
      "outputs": [],
      "source": []
    },
    {
      "cell_type": "markdown",
      "metadata": {
        "id": "t-zeDWek2yVw"
      },
      "source": [
        "<b>2:</b> Instancier le modèle"
      ]
    },
    {
      "cell_type": "code",
      "execution_count": null,
      "metadata": {
        "id": "Y2QwOsAF2yVw"
      },
      "outputs": [],
      "source": []
    },
    {
      "cell_type": "markdown",
      "metadata": {
        "id": "09zULX-z2yVx"
      },
      "source": [
        "<b>3:</b> Entrainement"
      ]
    },
    {
      "cell_type": "code",
      "execution_count": null,
      "metadata": {
        "id": "jpesPr9P2yVx"
      },
      "outputs": [],
      "source": []
    },
    {
      "cell_type": "markdown",
      "metadata": {
        "id": "2TT7mn1c2yVx"
      },
      "source": [
        "<b>4:</b> Prediction des labels pour de nouvelles données (data test)"
      ]
    },
    {
      "cell_type": "code",
      "execution_count": null,
      "metadata": {
        "id": "5RTeeelo2yVx"
      },
      "outputs": [],
      "source": []
    },
    {
      "cell_type": "markdown",
      "metadata": {
        "id": "_RJ9fhfV2yVx"
      },
      "source": [
        "### Performances du modèle"
      ]
    },
    {
      "cell_type": "code",
      "execution_count": null,
      "metadata": {
        "id": "vg7rVT4J2yVx"
      },
      "outputs": [],
      "source": []
    },
    {
      "cell_type": "markdown",
      "metadata": {
        "id": "FCm9XU2f2yVx"
      },
      "source": [
        "### Visualisation des Estimateurs"
      ]
    },
    {
      "cell_type": "code",
      "execution_count": null,
      "metadata": {
        "id": "-lB7AsRG2yVx"
      },
      "outputs": [],
      "source": []
    },
    {
      "cell_type": "code",
      "execution_count": null,
      "metadata": {
        "id": "aXnIg43J2yVx"
      },
      "outputs": [],
      "source": []
    },
    {
      "cell_type": "code",
      "execution_count": null,
      "metadata": {
        "id": "w-F9zFqx2yVy"
      },
      "outputs": [],
      "source": []
    },
    {
      "cell_type": "markdown",
      "metadata": {
        "id": "tNf1MmQu2yVy"
      },
      "source": [
        "Nous pouvons visualiser des arbres à partir du random Forest ...."
      ]
    },
    {
      "cell_type": "code",
      "execution_count": null,
      "metadata": {
        "id": "tBFmQgSh2yVy",
        "scrolled": true
      },
      "outputs": [],
      "source": []
    },
    {
      "cell_type": "markdown",
      "metadata": {
        "id": "e_DRDDpt2yVy"
      },
      "source": [
        "Afficher les 5 premiers arbres"
      ]
    },
    {
      "cell_type": "code",
      "execution_count": null,
      "metadata": {
        "id": "HUc8vFuQ2yVy"
      },
      "outputs": [],
      "source": []
    },
    {
      "cell_type": "markdown",
      "metadata": {
        "id": "i7-0XUCsgKH1"
      },
      "source": [
        "**Hyperparametres - GridSearch Cross validation**"
      ]
    },
    {
      "cell_type": "markdown",
      "metadata": {
        "id": "pvzfCzcUyI2M"
      },
      "source": [
        "Appliquer GridSearchCV au random Forest pour trouver les meilleurs paramètres"
      ]
    },
    {
      "cell_type": "code",
      "execution_count": null,
      "metadata": {
        "id": "EmPadHHbgQrl"
      },
      "outputs": [],
      "source": []
    }
  ],
  "metadata": {
    "anaconda-cloud": {},
    "colab": {
      "provenance": []
    },
    "kernelspec": {
      "display_name": "Python 3",
      "language": "python",
      "name": "python3"
    },
    "language_info": {
      "codemirror_mode": {
        "name": "ipython",
        "version": 3
      },
      "file_extension": ".py",
      "mimetype": "text/x-python",
      "name": "python",
      "nbconvert_exporter": "python",
      "pygments_lexer": "ipython3",
      "version": "3.11.9"
    }
  },
  "nbformat": 4,
  "nbformat_minor": 0
}
