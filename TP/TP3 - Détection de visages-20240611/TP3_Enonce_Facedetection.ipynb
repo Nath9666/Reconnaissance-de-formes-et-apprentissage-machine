{
  "nbformat": 4,
  "nbformat_minor": 0,
  "metadata": {
    "colab": {
      "provenance": []
    },
    "kernelspec": {
      "name": "python3",
      "display_name": "Python 3"
    },
    "language_info": {
      "name": "python"
    }
  },
  "cells": [
    {
      "cell_type": "markdown",
      "source": [
        "# **Détection de visages à partir d'une image ou d'une vidéo (stream)**\n",
        "---\n",
        "---\n",
        "La détection des visages consiste à identifier le visage d'une personne dans une image ou une vidéo. Ainsi, il faudra analyser le contenu visuel afin de déterminer si les caractéristiques d'un visage d'une personne sont présents ou pas.\n",
        "\n",
        "Les visages humains sont très variés (personnes d'origines, de sexes et de cultures différents). Les apporoches ML supervisées de détection des visages doivent être entraînés sur de larges quantités de données d'entrée pour pouvoir se généraliser sur de nouvelles données.\n",
        "\n",
        "D'autre part, les approches proposées doivent être robustes aux différents types d'éclairage, aux transformations géométriques, etc.  Par conséquent, on augmente souvent les datasets d'apprentissage par des données vérifiant ces hypothèses.\n",
        "\n",
        "Dans le cadre de TP, nous allons utiliser une implémentation OpenCV de la méthode de cascade de Haar qui est un modèle supervisé pré-entrainé."
      ],
      "metadata": {
        "id": "1jM-6NWnoOHl"
      }
    },
    {
      "cell_type": "markdown",
      "source": [
        "**Méthode de casacde de Haar**\n",
        "\n",
        "---\n",
        "\n",
        "\n",
        "\n",
        "Cette méthode a été intrduite par Paul Viola et M.ichael Jones en 2001, [www.cs.cmu.edu/~efros/courses/LBMV07/Papers/viola-cvpr-01.pdf](www.cs.cmu.edu/~efros/courses/LBMV07/Papers/viola-cvpr-01.pdf) [1].\n",
        "L'idée principale de cette méthode consiste à utiliser une cascade de classificateurs pour détecter les différentes caractéristiques d'une image. Ces classificateurs sont ensuite combinés en un classificateur fort capable de distinguer avec précision les échantillons contenant un visage humain de ceux qui n'en contiennent pas.\n",
        "\n",
        "Le classificateur Haar Cascade implémenté dans OpenCV est pré-entrainé sur un large ensemble de données de visages humains. Ainsi, il n'est pas nécessaire de le re-entrainer. Il suffit de charger le classificateur à partir de la bibliothèque et de l'utiliser pour détecter les visages sur une image d'entrée.\n",
        "\n",
        "\n",
        "\n",
        "**Référence**\n",
        "[1] P. Viola and M. Jones, \"Rapid object detection using a boosted cascade of simple features,\" Proceedings of the 2001 IEEE Computer Society Conference on Computer Vision and Pattern Recognition. CVPR 2001, Kauai, HI, USA, 2001, pp. I-I, doi: 10.1109/CVPR.2001.990517."
      ],
      "metadata": {
        "id": "Qm7zBVObrakU"
      }
    },
    {
      "cell_type": "markdown",
      "source": [
        "## ***Question 1- Lire une image contenant un visage***"
      ],
      "metadata": {
        "id": "fFV4ylYft9Gc"
      }
    },
    {
      "cell_type": "markdown",
      "source": [
        "## Importer les librairies\n",
        "OpenCV, Numpy, Matplotlib"
      ],
      "metadata": {
        "id": "togy8UXUthUL"
      }
    },
    {
      "cell_type": "code",
      "source": [
        "# Compléter ....\n"
      ],
      "metadata": {
        "id": "yLOm3vNn0RRn"
      },
      "execution_count": null,
      "outputs": []
    },
    {
      "cell_type": "markdown",
      "source": [
        "## Charger et afficher l'image\n",
        "Soit l'image visage.jpg (dans le fichier ci-joint). Lire et afficher cette image. Vérifier les dimensions de l'image"
      ],
      "metadata": {
        "id": "woZb8MHtoLJW"
      }
    },
    {
      "cell_type": "code",
      "source": [
        "#Lire et afficher l'image\n",
        "ImNom=\"visage.jpg\"\n",
        "#Compléter ....."
      ],
      "metadata": {
        "id": "YyMGPIT2Wto8"
      },
      "execution_count": null,
      "outputs": []
    },
    {
      "cell_type": "markdown",
      "source": [
        "## Convertir l'image en niveaux de gris"
      ],
      "metadata": {
        "id": "2QaYbVYrusvL"
      }
    },
    {
      "cell_type": "code",
      "source": [
        "#convertir en image à niveaux de gris\n",
        "____________________________\n"
      ],
      "metadata": {
        "id": "fI-xS_NTXVAQ"
      },
      "execution_count": null,
      "outputs": []
    },
    {
      "cell_type": "markdown",
      "source": [
        "## Instancier et charger le classifieur CascadeClassifier\n",
        "Pour plus d'informations vous pouvez regarder [OpenCv CascadeClassifier](https://docs.opencv.org/3.4/db/d28/tutorial_cascade_classifier.html)"
      ],
      "metadata": {
        "id": "02ApGWWzvEA6"
      }
    },
    {
      "cell_type": "code",
      "source": [
        "face_classifier = cv2.CascadeClassifier(\n",
        "    cv2.data.haarcascades + \"haarcascade_frontalface_default.xml\"\n",
        ")"
      ],
      "metadata": {
        "id": "2opqIRmCvRSA"
      },
      "execution_count": null,
      "outputs": []
    },
    {
      "cell_type": "markdown",
      "source": [
        "## Appliquer le classifieur"
      ],
      "metadata": {
        "id": "ZyoBrksxve9I"
      }
    },
    {
      "cell_type": "code",
      "source": [
        "face = face_classifier.detectMultiScale(\n",
        "    gray_image, scaleFactor=1.1, minNeighbors=5, minSize=(40, 40)\n",
        ")"
      ],
      "metadata": {
        "id": "WY0bKJxvvqiI"
      },
      "execution_count": null,
      "outputs": []
    },
    {
      "cell_type": "markdown",
      "source": [
        "## Dessiner une boite englobante"
      ],
      "metadata": {
        "id": "CrYUeS1pwtMG"
      }
    },
    {
      "cell_type": "code",
      "source": [
        "# A compléter : Utiliser la méthode rectangle() de OpenCv\n",
        "    ________________"
      ],
      "metadata": {
        "id": "SzftP31OwsOh"
      },
      "execution_count": null,
      "outputs": []
    },
    {
      "cell_type": "markdown",
      "source": [
        "ReConvertir l'image ---> Image couleur et afficher l'image"
      ],
      "metadata": {
        "id": "bfPgiOK5LmEd"
      }
    },
    {
      "cell_type": "code",
      "source": [
        "# Compléter"
      ],
      "metadata": {
        "id": "Mya8PxZCw_B-"
      },
      "execution_count": null,
      "outputs": []
    },
    {
      "cell_type": "markdown",
      "source": [
        "## Lire à partir de la WebCam\n",
        "Ecrire un programme permettant de détecter directement un visage à partir du flux WebCam et d'encadrer le visage si trouvé.\n",
        "Vous pouvez utiliser\n",
        "1.   cv2.VideoCapture(0) : capture de la vidéo / entrée WebCam\n",
        "2.   Réaliser une boucle : While True : Pour parcourir les frames de la vidéo\n",
        "\n"
      ],
      "metadata": {
        "id": "MU2Ge1hI0GGb"
      }
    },
    {
      "cell_type": "code",
      "source": [
        "#Lire à partir de la WebCam\n",
        "video_capture = cv2.VideoCapture(0)"
      ],
      "metadata": {
        "id": "VGmEnqNb0Yu7"
      },
      "execution_count": null,
      "outputs": []
    },
    {
      "cell_type": "code",
      "source": [
        "# A compléter"
      ],
      "metadata": {
        "id": "7-2qJ8DNI54v"
      },
      "execution_count": null,
      "outputs": []
    }
  ]
}