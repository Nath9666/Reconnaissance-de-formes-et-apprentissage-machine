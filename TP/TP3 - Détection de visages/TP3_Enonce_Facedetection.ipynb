{
  "cells": [
    {
      "cell_type": "markdown",
      "metadata": {
        "id": "1jM-6NWnoOHl"
      },
      "source": [
        "# **Détection de visages à partir d'une image ou d'une vidéo (stream)**\n",
        "---\n",
        "---\n",
        "La détection des visages consiste à identifier le visage d'une personne dans une image ou une vidéo. Ainsi, il faudra analyser le contenu visuel afin de déterminer si les caractéristiques d'un visage d'une personne sont présents ou pas.\n",
        "\n",
        "Les visages humains sont très variés (personnes d'origines, de sexes et de cultures différents). Les apporoches ML supervisées de détection des visages doivent être entraînés sur de larges quantités de données d'entrée pour pouvoir se généraliser sur de nouvelles données.\n",
        "\n",
        "D'autre part, les approches proposées doivent être robustes aux différents types d'éclairage, aux transformations géométriques, etc.  Par conséquent, on augmente souvent les datasets d'apprentissage par des données vérifiant ces hypothèses.\n",
        "\n",
        "Dans le cadre de TP, nous allons utiliser une implémentation OpenCV de la méthode de cascade de Haar qui est un modèle supervisé pré-entrainé."
      ]
    },
    {
      "cell_type": "markdown",
      "metadata": {
        "id": "Qm7zBVObrakU"
      },
      "source": [
        "**Méthode de casacde de Haar**\n",
        "\n",
        "---\n",
        "\n",
        "\n",
        "\n",
        "Cette méthode a été intrduite par Paul Viola et M.ichael Jones en 2001, [www.cs.cmu.edu/~efros/courses/LBMV07/Papers/viola-cvpr-01.pdf](www.cs.cmu.edu/~efros/courses/LBMV07/Papers/viola-cvpr-01.pdf) [1].\n",
        "L'idée principale de cette méthode consiste à utiliser une cascade de classificateurs pour détecter les différentes caractéristiques d'une image. Ces classificateurs sont ensuite combinés en un classificateur fort capable de distinguer avec précision les échantillons contenant un visage humain de ceux qui n'en contiennent pas.\n",
        "\n",
        "Le classificateur Haar Cascade implémenté dans OpenCV est pré-entrainé sur un large ensemble de données de visages humains. Ainsi, il n'est pas nécessaire de le re-entrainer. Il suffit de charger le classificateur à partir de la bibliothèque et de l'utiliser pour détecter les visages sur une image d'entrée.\n",
        "\n",
        "\n",
        "\n",
        "**Référence**\n",
        "[1] P. Viola and M. Jones, \"Rapid object detection using a boosted cascade of simple features,\" Proceedings of the 2001 IEEE Computer Society Conference on Computer Vision and Pattern Recognition. CVPR 2001, Kauai, HI, USA, 2001, pp. I-I, doi: 10.1109/CVPR.2001.990517."
      ]
    },
    {
      "cell_type": "markdown",
      "metadata": {
        "id": "fFV4ylYft9Gc"
      },
      "source": [
        "## ***Question 1- Lire une image contenant un visage***"
      ]
    },
    {
      "cell_type": "markdown",
      "metadata": {
        "id": "togy8UXUthUL"
      },
      "source": [
        "## Importer les librairies\n",
        "OpenCV, Numpy, Matplotlib"
      ]
    },
    {
      "cell_type": "code",
      "execution_count": 1,
      "metadata": {
        "id": "yLOm3vNn0RRn"
      },
      "outputs": [],
      "source": [
        "import cv2\n",
        "import numpy\n",
        "import matplotlib.pyplot as plt\n"
      ]
    },
    {
      "cell_type": "markdown",
      "metadata": {
        "id": "woZb8MHtoLJW"
      },
      "source": [
        "## Charger et afficher l'image\n",
        "Soit l'image visage.jpg (dans le fichier ci-joint). Lire et afficher cette image. Vérifier les dimensions de l'image"
      ]
    },
    {
      "cell_type": "code",
      "execution_count": null,
      "metadata": {
        "id": "YyMGPIT2Wto8"
      },
      "outputs": [],
      "source": []
    },
    {
      "cell_type": "markdown",
      "metadata": {
        "id": "2QaYbVYrusvL"
      },
      "source": [
        "## Convertir l'image en niveaux de gris"
      ]
    },
    {
      "cell_type": "code",
      "execution_count": null,
      "metadata": {
        "id": "fI-xS_NTXVAQ"
      },
      "outputs": [],
      "source": []
    },
    {
      "cell_type": "markdown",
      "metadata": {
        "id": "02ApGWWzvEA6"
      },
      "source": [
        "## Instancier et charger le classifieur CascadeClassifier\n",
        "Pour plus d'informations vous pouvez regarder [OpenCv CascadeClassifier](https://docs.opencv.org/3.4/db/d28/tutorial_cascade_classifier.html)"
      ]
    },
    {
      "cell_type": "code",
      "execution_count": null,
      "metadata": {
        "id": "2opqIRmCvRSA"
      },
      "outputs": [],
      "source": []
    },
    {
      "cell_type": "markdown",
      "metadata": {
        "id": "ZyoBrksxve9I"
      },
      "source": [
        "## Appliquer le classifieur"
      ]
    },
    {
      "cell_type": "code",
      "execution_count": null,
      "metadata": {
        "id": "WY0bKJxvvqiI"
      },
      "outputs": [],
      "source": []
    },
    {
      "cell_type": "markdown",
      "metadata": {
        "id": "CrYUeS1pwtMG"
      },
      "source": [
        "## Dessiner une boite englobante"
      ]
    },
    {
      "cell_type": "code",
      "execution_count": null,
      "metadata": {
        "id": "SzftP31OwsOh"
      },
      "outputs": [],
      "source": []
    },
    {
      "cell_type": "markdown",
      "metadata": {
        "id": "bfPgiOK5LmEd"
      },
      "source": [
        "ReConvertir l'image ---> Image couleur et afficher l'image"
      ]
    },
    {
      "cell_type": "code",
      "execution_count": null,
      "metadata": {
        "id": "Mya8PxZCw_B-"
      },
      "outputs": [],
      "source": []
    },
    {
      "cell_type": "markdown",
      "metadata": {
        "id": "MU2Ge1hI0GGb"
      },
      "source": [
        "## Lire à partir de la WebCam\n",
        "Ecrire un programme permettant de détecter directement un visage à partir du flux WebCam et d'encadrer le visage si trouvé.\n",
        "Vous pouvez utiliser\n",
        "1.   cv2.VideoCapture(0) : capture de la vidéo / entrée WebCam\n",
        "2.   Réaliser une boucle : While True : Pour parcourir les frames de la vidéo\n",
        "\n"
      ]
    },
    {
      "cell_type": "code",
      "execution_count": null,
      "metadata": {
        "id": "VGmEnqNb0Yu7"
      },
      "outputs": [],
      "source": []
    },
    {
      "cell_type": "code",
      "execution_count": null,
      "metadata": {
        "id": "7-2qJ8DNI54v"
      },
      "outputs": [],
      "source": []
    },
    {
      "cell_type": "markdown",
      "metadata": {},
      "source": [
        "## Detection des yeux et du nez"
      ]
    },
    {
      "cell_type": "code",
      "execution_count": null,
      "metadata": {},
      "outputs": [],
      "source": []
    },
    {
      "cell_type": "code",
      "execution_count": null,
      "metadata": {},
      "outputs": [],
      "source": []
    },
    {
      "cell_type": "markdown",
      "metadata": {},
      "source": [
        "## Sauvegarder l'image avec les boites englobantes"
      ]
    }
  ],
  "metadata": {
    "colab": {
      "provenance": []
    },
    "kernelspec": {
      "display_name": "Python 3",
      "name": "python3"
    },
    "language_info": {
      "codemirror_mode": {
        "name": "ipython",
        "version": 3
      },
      "file_extension": ".py",
      "mimetype": "text/x-python",
      "name": "python",
      "nbconvert_exporter": "python",
      "pygments_lexer": "ipython3",
      "version": "3.11.9"
    }
  },
  "nbformat": 4,
  "nbformat_minor": 0
}
