{
 "cells": [
  {
   "cell_type": "markdown",
   "metadata": {},
   "source": [
    "# Detection des visages\n",
    "\n",
    "Une fois le visage est détecté, nous nous intéressons à le reconnaître. Dans cette section nous supposons qu’ondispose d’images de visages (c.a.d la phase de détection a été déjà réalisée). L’objectif est de reconnaîtrel’identité de chaque visage. Nous allons explorer des approches classiques et des approches CNN"
   ]
  },
  {
   "cell_type": "markdown",
   "metadata": {},
   "source": [
    "Pour cette partie voila la liste des site que l'on c'est inspiré pour la réalisation de ce projet:\n",
    "- [Face Detection CNN](https://www.kaggle.com/code/nurcankurt/face-detection-cnn)\n",
    "- [Détection de Masque Visage utilisant CNN (98% Précision)](https://www.kaggle.com/code/arbazkhan971/face-mask-detection-using-cnn-98-accuracy)\n",
    "- [face-mask-detection CNN](https://www.kaggle.com/code/abdalrahmanshahrour/face-mask-detection-cnn/notebook)\n",
    "- [Face detection using CNN with the LFW dataset](https://www.kaggle.com/code/jake126/face-detection-using-cnn-with-the-lfw-dataset)\n",
    "- [Image Recognition - Gender Detection](https://www.kaggle.com/code/bmarcos/image-recognition-gender-detection-inceptionv3)\n",
    "- [Face-Detection-Dataset](https://www.kaggle.com/datasets/fareselmenshawii/face-detection-dataset?resource=download-directory)"
   ]
  },
  {
   "cell_type": "code",
   "execution_count": 1,
   "metadata": {},
   "outputs": [],
   "source": [
    "# bibliotheque utiliser pour les expressions regulieres\n",
    "from sklearn.decomposition import PCA\n",
    "from sklearn.preprocessing import StandardScaler\n",
    "import numpy as np\n",
    "from PIL import Image\n",
    "import glob"
   ]
  },
  {
   "cell_type": "markdown",
   "metadata": {},
   "source": [
    "## Programme pour reconnaître un visage (ACP)\n",
    "\n",
    "Ecrire un programme Python permettant de reconnaitre un visage en utilisant l’ACP\n"
   ]
  },
  {
   "cell_type": "code",
   "execution_count": null,
   "metadata": {},
   "outputs": [],
   "source": [
    "# Étape 1 : Charger les images\n",
    "def charger_images(chemin):\n",
    "    images = []\n",
    "    for fichier in glob.glob(chemin + '/*.jpg'):  # Assurez-vous que le chemin est correct\n",
    "        img = Image.open(fichier).convert('L')  # Convertir en niveaux de gris\n",
    "        img = img.resize((100, 100))  # Redimensionner pour uniformiser la taille\n",
    "        images.append(np.array(img).flatten())  # Aplatir et ajouter à la liste\n",
    "    return np.array(images)\n",
    "\n",
    "# Étape 2 à 7 : Prétraitement et ACP\n",
    "def preparer_et_acp(images):\n",
    "    scaler = StandardScaler()\n",
    "    images_normalisees = scaler.fit_transform(images)\n",
    "    \n",
    "    pca = PCA(n_components=0.97)  # Conserver 97% de la variance\n",
    "    composantes_principales = pca.fit_transform(images_normalisees)\n",
    "    return composantes_principales, pca, scaler\n",
    "\n",
    "# Étape 8 : Reconnaissance de visage\n",
    "def reconnaitre_visage(nouveau_visage, pca, scaler):\n",
    "    visage_flatten = np.array(nouveau_visage).flatten().reshape(1, -1)\n",
    "    visage_normalise = scaler.transform(visage_flatten)\n",
    "    visage_pca = pca.transform(visage_normalise)\n",
    "    # Ici, vous devriez comparer visage_pca avec vos visages dans l'espace PCA pour trouver la correspondance\n",
    "    # Cela peut être fait en utilisant une mesure de distance (par exemple, la distance euclidienne)\n",
    "\n",
    "images = charger_images('chemin_vers_les_images')\n",
    "composantes_principales, pca, scaler = preparer_et_acp(images)\n",
    "\n",
    "# Pour reconnaître un nouveau visage, chargez-le, prétraitez-le et utilisez `reconnaitre_visage`"
   ]
  }
 ],
 "metadata": {
  "kernelspec": {
   "display_name": "Python 3",
   "language": "python",
   "name": "python3"
  },
  "language_info": {
   "codemirror_mode": {
    "name": "ipython",
    "version": 3
   },
   "file_extension": ".py",
   "mimetype": "text/x-python",
   "name": "python",
   "nbconvert_exporter": "python",
   "pygments_lexer": "ipython3",
   "version": "3.11.0"
  }
 },
 "nbformat": 4,
 "nbformat_minor": 2
}
